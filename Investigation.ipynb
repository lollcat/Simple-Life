{
 "cells": [
  {
   "cell_type": "code",
   "execution_count": 1,
   "metadata": {},
   "outputs": [
    {
     "data": {
      "text/plain": [
       "['.idea', '.ipynb_checkpoints', 'main.py', 'Simulator.fsd', 'Untitled.ipynb']"
      ]
     },
     "execution_count": 1,
     "metadata": {},
     "output_type": "execute_result"
    }
   ],
   "source": [
    "import comtypes.client\n",
    "import comtypes.gen\n",
    "from comtypes import COMError\n",
    "from comtypes.automation import VARIANT\n",
    "import array\n",
    "import os\n",
    "import time\n",
    "os.listdir()"
   ]
  },
  {
   "cell_type": "code",
   "execution_count": 2,
   "metadata": {},
   "outputs": [],
   "source": [
    "# tell comtypes to load type libs\n",
    "cofeTlb = ('{0D1006C7-6086-4838-89FC-FBDCC0E98780}', 1, 0)  # COFE type lib\n",
    "cofeTypes = comtypes.client.GetModule(cofeTlb)\n",
    "coTlb = ('{4A5E2E81-C093-11D4-9F1B-0010A4D198C2}', 1, 1)  # CAPE-OPEN v1.1 type lib\n",
    "coTypes = comtypes.client.GetModule(coTlb)\n",
    "doc = comtypes.client.CreateObject('COCO_COFE.Document', interface=cofeTypes.ICOFEDocument)"
   ]
  },
  {
   "cell_type": "code",
   "execution_count": 5,
   "metadata": {},
   "outputs": [],
   "source": [
    "doc.Import('Simulator.fsd') # load the file\n",
    "reactor = doc.GetUnitNames()[0] # Get the reactors name"
   ]
  },
  {
   "cell_type": "code",
   "execution_count": 6,
   "metadata": {},
   "outputs": [
    {
     "name": "stdout",
     "output_type": "stream",
     "text": [
      "Thermo Version\n",
      "Pressure drop\n",
      "Heat duty type\n",
      "Temperature\n",
      "Heat duty\n",
      "Tolerance\n",
      "Maximum iterations\n",
      "Phase\n",
      "Reaction type\n"
     ]
    }
   ],
   "source": [
    "count = doc.GetUnit(reactor).QueryInterface(coTypes.ICapeUtilities). \\\n",
    "    Parameters.QueryInterface(coTypes.ICapeCollection).Count()\n",
    "for i in range(1, count+1):\n",
    "    print(doc.GetUnit(reactor).QueryInterface(coTypes.ICapeUtilities).Parameters. \\\n",
    "    QueryInterface(coTypes.ICapeCollection).Item(i).QueryInterface(coTypes.ICapeParameter). \\\n",
    "    QueryInterface(coTypes.ICapeIdentification).ComponentName)"
   ]
  },
  {
   "cell_type": "code",
   "execution_count": 10,
   "metadata": {},
   "outputs": [
    {
     "name": "stdout",
     "output_type": "stream",
     "text": [
      "0.0\n",
      "300.0\n"
     ]
    }
   ],
   "source": [
    "# Look at the values of some unit parameters\n",
    "print(doc.GetUnit(reactor).QueryInterface(coTypes.ICapeUtilities).Parameters.QueryInterface(coTypes.ICapeCollection).Item(\n",
    "            \"Pressure drop\").QueryInterface(coTypes.ICapeParameter).value)\n",
    "print(doc.GetUnit(reactor).QueryInterface(coTypes.ICapeUtilities).Parameters.QueryInterface(coTypes.ICapeCollection).Item(\n",
    "            \"Temperature\").QueryInterface(coTypes.ICapeParameter).value)"
   ]
  },
  {
   "cell_type": "code",
   "execution_count": 12,
   "metadata": {},
   "outputs": [
    {
     "name": "stdout",
     "output_type": "stream",
     "text": [
      "500.0\n"
     ]
    }
   ],
   "source": [
    "# Change the value of a unit parameter\n",
    "doc.GetUnit(reactor).QueryInterface(coTypes.ICapeUtilities).Parameters.QueryInterface(coTypes.ICapeCollection).Item(\n",
    "            \"Temperature\").QueryInterface(coTypes.ICapeParameter).value = float(500)\n",
    "print(doc.GetUnit(reactor).QueryInterface(coTypes.ICapeUtilities).Parameters.QueryInterface(coTypes.ICapeCollection).Item(\n",
    "            \"Temperature\").QueryInterface(coTypes.ICapeParameter).value)"
   ]
  },
  {
   "cell_type": "code",
   "execution_count": 15,
   "metadata": {},
   "outputs": [
    {
     "data": {
      "text/plain": [
       "True"
      ]
     },
     "execution_count": 15,
     "metadata": {},
     "output_type": "execute_result"
    }
   ],
   "source": [
    "# solve the simulation\n",
    "def Solve():\n",
    "    try:\n",
    "        doc.Solve()\n",
    "        return True  # 0 for sucess\n",
    "    except COMError as err:\n",
    "        return False  # for failure\n",
    "Solve()"
   ]
  },
  {
   "cell_type": "code",
   "execution_count": 17,
   "metadata": {},
   "outputs": [
    {
     "data": {
      "text/plain": [
       "(14.649894946654987,\n",
       " 27.016771720011686,\n",
       " 17.427672724432767,\n",
       " 10.350105053345015)"
      ]
     },
     "execution_count": 17,
     "metadata": {},
     "output_type": "execute_result"
    }
   ],
   "source": [
    "# let's say we are interested in the info contained in this stream\n",
    "doc.GetStream('2').QueryInterface(coTypes.ICapeThermoMaterial).GetOverallProp(\"flow\", \"mole\")"
   ]
  }
 ],
 "metadata": {
  "kernelspec": {
   "display_name": "Python 3",
   "language": "python",
   "name": "python3"
  },
  "language_info": {
   "codemirror_mode": {
    "name": "ipython",
    "version": 3
   },
   "file_extension": ".py",
   "mimetype": "text/x-python",
   "name": "python",
   "nbconvert_exporter": "python",
   "pygments_lexer": "ipython3",
   "version": "3.7.7"
  }
 },
 "nbformat": 4,
 "nbformat_minor": 4
}
